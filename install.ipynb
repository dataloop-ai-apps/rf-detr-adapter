{
 "cells": [
  {
   "cell_type": "code",
   "execution_count": 1,
   "metadata": {},
   "outputs": [],
   "source": [
    "import os\n",
    "from dotenv import load_dotenv\n",
    "import dtlpy as dl\n",
    "from rfdetr.util.coco_classes import COCO_CLASSES\n",
    "\n"
   ]
  },
  {
   "cell_type": "code",
   "execution_count": 2,
   "metadata": {},
   "outputs": [],
   "source": [
    "use_rc_env = True\n",
    "if use_rc_env:\n",
    "    dl.setenv('rc')\n",
    "else:\n",
    "    dl.setenv('prod')\n",
    "if dl.token_expired():\n",
    "    dl.login()\n"
   ]
  },
  {
   "cell_type": "code",
   "execution_count": 4,
   "metadata": {},
   "outputs": [],
   "source": [
    "if use_rc_env:\n",
    "    project = dl.projects.get(project_name='HusamDimo')\n",
    "else:\n",
    "    project = dl.projects.get(project_name='ShadiDemo')"
   ]
  },
  {
   "cell_type": "code",
   "execution_count": null,
   "metadata": {},
   "outputs": [],
   "source": [
    "models = project.models.list().print()\n"
   ]
  },
  {
   "cell_type": "code",
   "execution_count": null,
   "metadata": {},
   "outputs": [],
   "source": [
    "# Publish your app\n",
    "dpk = project.dpks.publish(local_path='model_adapter',manifest_filepath='dataloop.json')\n",
    "# Install or update the application\n",
    "try:\n",
    "    app = project.apps.get(app_name=dpk.display_name)\n",
    "    app.dpk_version = dpk.version\n",
    "    app.update()\n",
    "except dl.exceptions.NotFound:\n",
    "    print(\"installing ...\")\n",
    "    app = project.apps.install(dpk=dpk)"
   ]
  },
  {
   "cell_type": "code",
   "execution_count": null,
   "metadata": {},
   "outputs": [],
   "source": [
    "for model in project.models.list().all():\n",
    "    print(model.name)\n"
   ]
  },
  {
   "cell_type": "code",
   "execution_count": 6,
   "metadata": {},
   "outputs": [],
   "source": [
    "model = project.models.get(model_name = 'rf-detr')"
   ]
  },
  {
   "cell_type": "markdown",
   "metadata": {},
   "source": [
    "set the lables from COCO_CLASSES"
   ]
  },
  {
   "cell_type": "code",
   "execution_count": 7,
   "metadata": {},
   "outputs": [],
   "source": [
    "model.labels = list(COCO_CLASSES.values())"
   ]
  },
  {
   "cell_type": "code",
   "execution_count": null,
   "metadata": {},
   "outputs": [],
   "source": [
    "len(COCO_CLASSES.values())\n"
   ]
  },
  {
   "cell_type": "markdown",
   "metadata": {},
   "source": [
    "upload the weights file\n"
   ]
  },
  {
   "cell_type": "code",
   "execution_count": null,
   "metadata": {},
   "outputs": [],
   "source": [
    "print(f\"model status before artifact upload: {model.status}\")\n",
    "# Upload your weights\n",
    "artifact = model.artifacts.upload(filepath='model.pth')\n",
    "\n",
    "# Update the configuration\n",
    "model.configuration['weights_filename'] = artifact.filename\n",
    "\n",
    "\n",
    "model = project.models.get(model_name = 'rf-detr')\n",
    "print(f\"model status after artifact upload: {model.status}\")\n",
    "\n",
    "model.status = 'trained'\n",
    "model.update()\n",
    "\n",
    "# # # Deploy your model\n",
    "# print(\"-##################\\n##################\\n##################\\n##################\\n##################\\n deploy only once \\n##################\\n##################\\n##################\\n##################\\n##################\\n\")\n",
    "# model.deploy()\n",
    "\n",
    "model = project.models.get(model_name = 'rf-detr')\n",
    "print(f\"model status after deploy: {model.status}\")"
   ]
  },
  {
   "cell_type": "code",
   "execution_count": null,
   "metadata": {},
   "outputs": [],
   "source": [
    "cloned_model_taxi = project.models.get(model_name='rf-detr-tex4l')\n",
    "artifact = cloned_model_taxi.artifacts.upload(filepath='model.pth')\n",
    "\n",
    "# Update the configuration\n",
    "cloned_model_taxi.configuration['weights_filename'] = artifact.filename\n",
    "\n",
    "model.update()\n"
   ]
  },
  {
   "cell_type": "code",
   "execution_count": null,
   "metadata": {},
   "outputs": [],
   "source": [
    "dataset = project.datasets.get(dataset_name='nvidia-husam-clone-updated-name')\n",
    "image_url = 'https://media.roboflow.com/notebooks/examples/dog-2.jpeg'\n",
    "item_3 = dataset.items.upload(image_url)\n",
    "prediction_3 = model.predict(item_ids=[item_3.id],dataset_id=dataset.id)\n",
    "prediction_3.wait()\n",
    "item_3.open_in_web()"
   ]
  },
  {
   "cell_type": "code",
   "execution_count": 24,
   "metadata": {},
   "outputs": [],
   "source": [
    "model = project.models.get(model_name = 'rf-detr')\n",
    "model.open_in_web()\n",
    "project.datasets.get(dataset_id='67f3d54728294f8e79c43965').open_in_web()"
   ]
  },
  {
   "cell_type": "code",
   "execution_count": 21,
   "metadata": {},
   "outputs": [],
   "source": [
    "\n",
    "# Train with data splitting and validation\n",
    "train_filters = dl.Filters(field='dir', values='/train')\n",
    "val_filters = dl.Filters(field='dir', values='/validation')\n",
    "\n",
    "\n",
    "model = model.clone(\n",
    "    model_name='zibra_pingwin_model_3',\n",
    "    description='Husam trained model',\n",
    "    dataset=project.datasets.get(dataset_id='67f3d54728294f8e79c43965'),\n",
    "    project_id=project.id,\n",
    "    train_filter=train_filters,\n",
    "    validation_filter=val_filters,\n",
    ")"
   ]
  },
  {
   "cell_type": "code",
   "execution_count": null,
   "metadata": {},
   "outputs": [],
   "source": [
    "exec = model.train()"
   ]
  },
  {
   "cell_type": "code",
   "execution_count": null,
   "metadata": {},
   "outputs": [],
   "source": [
    "s = dl.services.get(service_id=\"67b4cb48e26f1d1d9699a4c4\")\n",
    "s.log(system=True,\n",
    "          follow=True)"
   ]
  }
 ],
 "metadata": {
  "kernelspec": {
   "display_name": "venv_2",
   "language": "python",
   "name": "python3"
  },
  "language_info": {
   "codemirror_mode": {
    "name": "ipython",
    "version": 3
   },
   "file_extension": ".py",
   "mimetype": "text/x-python",
   "name": "python",
   "nbconvert_exporter": "python",
   "pygments_lexer": "ipython3",
   "version": "3.11.0rc2"
  }
 },
 "nbformat": 4,
 "nbformat_minor": 2
}
